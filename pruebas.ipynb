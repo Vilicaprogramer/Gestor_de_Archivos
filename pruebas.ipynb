{
 "cells": [
  {
   "cell_type": "code",
   "execution_count": 25,
   "id": "ae09b0ac",
   "metadata": {},
   "outputs": [],
   "source": [
    "import os\n",
    "import shutil\n",
    "from colorama import Fore, Back, Style, init"
   ]
  },
  {
   "cell_type": "code",
   "execution_count": null,
   "id": "f6f12a61",
   "metadata": {},
   "outputs": [
    {
     "ename": "PermissionError",
     "evalue": "[WinError 5] Acceso denegado: 'c:\\\\Users\\\\vicen\\\\OneDrive\\\\Escritorio\\\\Repositorios\\\\Gestor_de_Archivos\\\\nuevo'",
     "output_type": "error",
     "traceback": [
      "\u001b[31m---------------------------------------------------------------------------\u001b[39m",
      "\u001b[31mPermissionError\u001b[39m                           Traceback (most recent call last)",
      "\u001b[36mCell\u001b[39m\u001b[36m \u001b[39m\u001b[32mIn[26]\u001b[39m\u001b[32m, line 3\u001b[39m\n\u001b[32m      1\u001b[39m arch_dicect = \u001b[33m'\u001b[39m\u001b[33mnuevo\u001b[39m\u001b[33m'\u001b[39m\n\u001b[32m      2\u001b[39m ruta = os.path.join(os.getcwd(), arch_dicect)\n\u001b[32m----> \u001b[39m\u001b[32m3\u001b[39m \u001b[43mshutil\u001b[49m\u001b[43m.\u001b[49m\u001b[43mrmtree\u001b[49m\u001b[43m(\u001b[49m\u001b[43mruta\u001b[49m\u001b[43m)\u001b[49m\n\u001b[32m      4\u001b[39m \u001b[38;5;28mprint\u001b[39m(Fore.GREEN + \u001b[33mf\u001b[39m\u001b[33m'\u001b[39m\u001b[33mEl directorio \u001b[39m\u001b[38;5;132;01m{\u001b[39;00march_dicect\u001b[38;5;132;01m}\u001b[39;00m\u001b[33m ha sido eliminado correctamente\u001b[39m\u001b[33m'\u001b[39m)\n",
      "\u001b[36mFile \u001b[39m\u001b[32m~\\AppData\\Local\\Programs\\Python\\Python311\\Lib\\shutil.py:759\u001b[39m, in \u001b[36mrmtree\u001b[39m\u001b[34m(path, ignore_errors, onerror, dir_fd)\u001b[39m\n\u001b[32m    757\u001b[39m     \u001b[38;5;66;03m# can't continue even if onerror hook returns\u001b[39;00m\n\u001b[32m    758\u001b[39m     \u001b[38;5;28;01mreturn\u001b[39;00m\n\u001b[32m--> \u001b[39m\u001b[32m759\u001b[39m \u001b[38;5;28;01mreturn\u001b[39;00m \u001b[43m_rmtree_unsafe\u001b[49m\u001b[43m(\u001b[49m\u001b[43mpath\u001b[49m\u001b[43m,\u001b[49m\u001b[43m \u001b[49m\u001b[43monerror\u001b[49m\u001b[43m)\u001b[49m\n",
      "\u001b[36mFile \u001b[39m\u001b[32m~\\AppData\\Local\\Programs\\Python\\Python311\\Lib\\shutil.py:626\u001b[39m, in \u001b[36m_rmtree_unsafe\u001b[39m\u001b[34m(path, onerror)\u001b[39m\n\u001b[32m    624\u001b[39m     os.rmdir(path)\n\u001b[32m    625\u001b[39m \u001b[38;5;28;01mexcept\u001b[39;00m \u001b[38;5;167;01mOSError\u001b[39;00m:\n\u001b[32m--> \u001b[39m\u001b[32m626\u001b[39m     \u001b[43monerror\u001b[49m\u001b[43m(\u001b[49m\u001b[43mos\u001b[49m\u001b[43m.\u001b[49m\u001b[43mrmdir\u001b[49m\u001b[43m,\u001b[49m\u001b[43m \u001b[49m\u001b[43mpath\u001b[49m\u001b[43m,\u001b[49m\u001b[43m \u001b[49m\u001b[43msys\u001b[49m\u001b[43m.\u001b[49m\u001b[43mexc_info\u001b[49m\u001b[43m(\u001b[49m\u001b[43m)\u001b[49m\u001b[43m)\u001b[49m\n",
      "\u001b[36mFile \u001b[39m\u001b[32m~\\AppData\\Local\\Programs\\Python\\Python311\\Lib\\shutil.py:624\u001b[39m, in \u001b[36m_rmtree_unsafe\u001b[39m\u001b[34m(path, onerror)\u001b[39m\n\u001b[32m    622\u001b[39m             onerror(os.unlink, fullname, sys.exc_info())\n\u001b[32m    623\u001b[39m \u001b[38;5;28;01mtry\u001b[39;00m:\n\u001b[32m--> \u001b[39m\u001b[32m624\u001b[39m     \u001b[43mos\u001b[49m\u001b[43m.\u001b[49m\u001b[43mrmdir\u001b[49m\u001b[43m(\u001b[49m\u001b[43mpath\u001b[49m\u001b[43m)\u001b[49m\n\u001b[32m    625\u001b[39m \u001b[38;5;28;01mexcept\u001b[39;00m \u001b[38;5;167;01mOSError\u001b[39;00m:\n\u001b[32m    626\u001b[39m     onerror(os.rmdir, path, sys.exc_info())\n",
      "\u001b[31mPermissionError\u001b[39m: [WinError 5] Acceso denegado: 'c:\\\\Users\\\\vicen\\\\OneDrive\\\\Escritorio\\\\Repositorios\\\\Gestor_de_Archivos\\\\nuevo'"
     ]
    }
   ],
   "source": [
    "# Elimina un archivo o carpeta\n",
    "arch_dicect = input(\"¿Qué archivo o directorio quieres eliminar?\\n\")\n",
    "lista_directorios = os.listdir(os.getcwd())\n",
    "if arch_dicect in lista_directorios:\n",
    "    if os.path.isfile(arch_dicect):\n",
    "        os.remove(arch_dicect)\n",
    "        print(Fore.GREEN + f'El archivo {arch_dicect} ha sido elminado correctamente')\n",
    "    else:\n",
    "        os.rmdir(arch_dicect)\n",
    "        print(Fore.GREEN + f'El directorio {arch_dicect} ha sido eliminado correctamente')\n",
    "else:\n",
    "    print(Fore.RED + f'El archivo {arch_dicect} no está dentro de los archivos de este directorio.')"
   ]
  }
 ],
 "metadata": {
  "kernelspec": {
   "display_name": ".files_venv",
   "language": "python",
   "name": "python3"
  },
  "language_info": {
   "codemirror_mode": {
    "name": "ipython",
    "version": 3
   },
   "file_extension": ".py",
   "mimetype": "text/x-python",
   "name": "python",
   "nbconvert_exporter": "python",
   "pygments_lexer": "ipython3",
   "version": "3.11.7"
  }
 },
 "nbformat": 4,
 "nbformat_minor": 5
}
